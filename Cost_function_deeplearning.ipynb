{
 "cells": [
  {
   "cell_type": "code",
   "execution_count": 44,
   "id": "a69fd021",
   "metadata": {},
   "outputs": [],
   "source": [
    "import numpy as np\n",
    "\n",
    "y_predicted = np.array([1,1,0,0,1])\n",
    "y_true = np.array([0.30, 0.7, 1, 0, 0.5])"
   ]
  },
  {
   "cell_type": "markdown",
   "id": "541109e0",
   "metadata": {},
   "source": [
    "# Mean absolute Error"
   ]
  },
  {
   "cell_type": "code",
   "execution_count": 2,
   "id": "c7d38160",
   "metadata": {},
   "outputs": [
    {
     "data": {
      "text/plain": [
       "0.5"
      ]
     },
     "execution_count": 2,
     "metadata": {},
     "output_type": "execute_result"
    }
   ],
   "source": [
    "np.mean(np.abs(y_true - y_predicted))"
   ]
  },
  {
   "cell_type": "markdown",
   "id": "8f639fd5",
   "metadata": {},
   "source": [
    "# Log Loss or Binary cross Entropy"
   ]
  },
  {
   "cell_type": "code",
   "execution_count": 3,
   "id": "162d993e",
   "metadata": {},
   "outputs": [
    {
     "name": "stderr",
     "output_type": "stream",
     "text": [
      "C:\\Users\\biya\\AppData\\Local\\Temp/ipykernel_12260/262464415.py:1: RuntimeWarning: divide by zero encountered in log\n",
      "  np.log([0])\n"
     ]
    },
    {
     "data": {
      "text/plain": [
       "array([-inf])"
      ]
     },
     "execution_count": 3,
     "metadata": {},
     "output_type": "execute_result"
    }
   ],
   "source": [
    "np.log([0])"
   ]
  },
  {
   "cell_type": "code",
   "execution_count": 26,
   "id": "cfb41f50",
   "metadata": {},
   "outputs": [],
   "source": [
    "epsilon = 1e-15"
   ]
  },
  {
   "cell_type": "code",
   "execution_count": 45,
   "id": "bebba086",
   "metadata": {},
   "outputs": [
    {
     "data": {
      "text/plain": [
       "array([1, 1, 0, 0, 1])"
      ]
     },
     "execution_count": 45,
     "metadata": {},
     "output_type": "execute_result"
    }
   ],
   "source": [
    "y_predicted"
   ]
  },
  {
   "cell_type": "code",
   "execution_count": 55,
   "id": "1bd0fff1",
   "metadata": {},
   "outputs": [
    {
     "data": {
      "text/plain": [
       "[1, 1, 1e-15, 1e-15, 1]"
      ]
     },
     "execution_count": 55,
     "metadata": {},
     "output_type": "execute_result"
    }
   ],
   "source": [
    "y_predictednew = [max(i,epsilon) for i in y_predicted]\n",
    "y_predictednew"
   ]
  },
  {
   "cell_type": "code",
   "execution_count": 56,
   "id": "46d80dc1",
   "metadata": {},
   "outputs": [
    {
     "data": {
      "text/plain": [
       "[0.999999999999999, 0.999999999999999, 1e-15, 1e-15, 0.999999999999999]"
      ]
     },
     "execution_count": 56,
     "metadata": {},
     "output_type": "execute_result"
    }
   ],
   "source": [
    "y_predictednew = [min(i, 1-epsilon) for i in y_predictednew]\n",
    "y_predictednew"
   ]
  },
  {
   "cell_type": "code",
   "execution_count": 57,
   "id": "37f721cb",
   "metadata": {},
   "outputs": [
    {
     "data": {
      "text/plain": [
       "array([-9.99200722e-16, -9.99200722e-16, -3.45387764e+01, -3.45387764e+01,\n",
       "       -9.99200722e-16])"
      ]
     },
     "execution_count": 57,
     "metadata": {},
     "output_type": "execute_result"
    }
   ],
   "source": [
    "y_predictednew = np.array(y_predictednew)\n",
    "np.log(y_predictednew)"
   ]
  },
  {
   "cell_type": "code",
   "execution_count": 58,
   "id": "5523fb20",
   "metadata": {},
   "outputs": [
    {
     "data": {
      "text/plain": [
       "17.2696280766844"
      ]
     },
     "execution_count": 58,
     "metadata": {},
     "output_type": "execute_result"
    }
   ],
   "source": [
    "-np.mean(y_true*np.log(y_predictednew)+(1-y_true)*np.log(1-y_predictednew))"
   ]
  },
  {
   "cell_type": "code",
   "execution_count": 59,
   "id": "6adddd41",
   "metadata": {},
   "outputs": [],
   "source": [
    "def log_loss(y_true, y_predicted):\n",
    "    epsilon = 1e-15\n",
    "    y_predictednew = [max(i,epsilon) for i in y_predicted]\n",
    "    y_predictednew = [min(i, 1-epsilon) for i in y_predictednew]\n",
    "    y_predictednew = np.array(y_predictednew)\n",
    "    return -np.mean(y_true*np.log(y_predictednew)+(1-y_true)*np.log(1-y_predictednew))"
   ]
  },
  {
   "cell_type": "code",
   "execution_count": 60,
   "id": "275fdc65",
   "metadata": {},
   "outputs": [
    {
     "data": {
      "text/plain": [
       "17.2696280766844"
      ]
     },
     "execution_count": 60,
     "metadata": {},
     "output_type": "execute_result"
    }
   ],
   "source": [
    "log_loss(y_true, y_predicted)"
   ]
  },
  {
   "cell_type": "markdown",
   "id": "330bd4d9",
   "metadata": {},
   "source": [
    "# Mean squared Error"
   ]
  },
  {
   "cell_type": "code",
   "execution_count": 43,
   "id": "4c0b502a",
   "metadata": {},
   "outputs": [
    {
     "data": {
      "text/plain": [
       "0.366"
      ]
     },
     "execution_count": 43,
     "metadata": {},
     "output_type": "execute_result"
    }
   ],
   "source": [
    "np.mean(np.square(y_true - y_predicted))"
   ]
  }
 ],
 "metadata": {
  "kernelspec": {
   "display_name": "Python 3 (ipykernel)",
   "language": "python",
   "name": "python3"
  },
  "language_info": {
   "codemirror_mode": {
    "name": "ipython",
    "version": 3
   },
   "file_extension": ".py",
   "mimetype": "text/x-python",
   "name": "python",
   "nbconvert_exporter": "python",
   "pygments_lexer": "ipython3",
   "version": "3.9.7"
  }
 },
 "nbformat": 4,
 "nbformat_minor": 5
}
